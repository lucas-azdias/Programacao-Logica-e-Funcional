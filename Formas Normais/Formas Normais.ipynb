{
  "nbformat": 4,
  "nbformat_minor": 0,
  "metadata": {
    "colab": {
      "provenance": [],
      "collapsed_sections": [
        "WvAbcAPBegI_",
        "LEDMu5Uyhz5y",
        "3VQJPFNvRDc6",
        "LSAdDUaBRO7w",
        "e4qmYxzzRaKS",
        "ko1IClK5awHO",
        "KJMo8rgKQHTf",
        "E1TbBcWHQKkY",
        "7Lzrr3lTQbin",
        "lq9slRsEQh4A",
        "KBpCjyH8sZaZ",
        "IVzHFIP9Que_",
        "_0T_PhGYQxZA"
      ],
      "authorship_tag": "ABX9TyM6FFvpTAt601P8bMu6s3w3",
      "include_colab_link": true
    },
    "kernelspec": {
      "name": "python3",
      "display_name": "Python 3"
    },
    "language_info": {
      "name": "python"
    }
  },
  "cells": [
    {
      "cell_type": "markdown",
      "metadata": {
        "id": "view-in-github",
        "colab_type": "text"
      },
      "source": [
        "<a href=\"https://colab.research.google.com/github/lucas-azdias/Programacao-Logica-e-Funcional/blob/main/Formas%20Normais/Formas%20Normais.ipynb\" target=\"_parent\"><img src=\"https://colab.research.google.com/assets/colab-badge.svg\" alt=\"Open In Colab\"/></a>"
      ]
    },
    {
      "cell_type": "markdown",
      "source": [
        "Lucas Azevedo Dias"
      ],
      "metadata": {
        "id": "KXz4OY52FbCJ"
      }
    },
    {
      "cell_type": "markdown",
      "source": [
        "Obs.: The test text file  must have the elements separated with spaces."
      ],
      "metadata": {
        "id": "VMRn6EflOiKR"
      }
    },
    {
      "cell_type": "code",
      "execution_count": 1,
      "metadata": {
        "id": "zk-VymTz2qDM"
      },
      "outputs": [],
      "source": [
        "from IPython.display import display, Math\n",
        "from copy import deepcopy"
      ]
    },
    {
      "cell_type": "markdown",
      "source": [
        "\n",
        "# Downloading the text file from my GitHub to the virtual machine"
      ],
      "metadata": {
        "id": "WvAbcAPBegI_"
      }
    },
    {
      "cell_type": "code",
      "source": [
        "import requests\n",
        "import os\n",
        "\n",
        "\n",
        "DEFAULT_FOLDER = \"files\" # Default folder\n",
        "FILE_NAME = \"fbfs\" # Filename\n",
        "FILE_EXT = \"txt\" # File extension\n",
        "# Path for the saved text file in my GitHub\n",
        "PATH = \"https://raw.githubusercontent.com/lucas-azdias/Programacao-Logica-e-Funcional/main/Formas%20Normais/\"\n",
        "\n",
        "# Generating the folder path\n",
        "if os.path.basename(os.getcwd()) != DEFAULT_FOLDER:\n",
        "  folderPath = os.path.join(os.getcwd(), DEFAULT_FOLDER)\n",
        "  if not os.path.exists(folderPath):\n",
        "    os.makedirs(DEFAULT_FOLDER)\n",
        "  os.chdir(folderPath)\n",
        "\n",
        "# Downloading file in the given folder\n",
        "print(\"\\nDownloading files from GitHub...\")\n",
        "filename = FILE_NAME + \".\" + FILE_EXT\n",
        "with open(filename, \"wb\") as file:\n",
        "  file.write(requests.get(PATH + filename, allow_redirects=True).content)\n",
        "  file.close()\n",
        "print(f\"{filename} downloaded.\")"
      ],
      "metadata": {
        "colab": {
          "base_uri": "https://localhost:8080/"
        },
        "id": "1w3z44kQeguw",
        "outputId": "f02e6309-c814-487f-8768-be8b5cd05823"
      },
      "execution_count": 2,
      "outputs": [
        {
          "output_type": "stream",
          "name": "stdout",
          "text": [
            "\n",
            "Downloading files from GitHub...\n",
            "fbfs.txt downloaded.\n"
          ]
        }
      ]
    },
    {
      "cell_type": "markdown",
      "source": [
        "# Constants"
      ],
      "metadata": {
        "id": "LEDMu5Uyhz5y"
      }
    },
    {
      "cell_type": "code",
      "source": [
        "SEPARATOR = \" \"  # Separator for the LaTeX texts"
      ],
      "metadata": {
        "id": "maPd8JR8RV7H"
      },
      "execution_count": 3,
      "outputs": []
    },
    {
      "cell_type": "markdown",
      "source": [
        "## Operators LaTeX texts"
      ],
      "metadata": {
        "id": "3VQJPFNvRDc6"
      }
    },
    {
      "cell_type": "code",
      "source": [
        "EQUIVALENCE = r\"\\equiv\"\n",
        "BI_IMPLICATION = r\"\\leftrightarrow\"\n",
        "IMPLICATION = r\"\\rightarrow\"\n",
        "DISJUNCTION = r\"\\vee\"\n",
        "CONJUNCTION = r\"\\wedge\"\n",
        "NEGATION = r\"\\neg\"\n",
        "FOR_ALL = r\"\\forall\"\n",
        "EXISTS = r\"\\exists\""
      ],
      "metadata": {
        "id": "O3_pG2kdRDn3"
      },
      "execution_count": 4,
      "outputs": []
    },
    {
      "cell_type": "markdown",
      "source": [
        "## Enum for each type of operators"
      ],
      "metadata": {
        "id": "LSAdDUaBRO7w"
      }
    },
    {
      "cell_type": "code",
      "source": [
        "BI_OP = 0\n",
        "MONO_OP = 1\n",
        "QUANT_OP = 2"
      ],
      "metadata": {
        "id": "MUf5ZADHRPS3"
      },
      "execution_count": 5,
      "outputs": []
    },
    {
      "cell_type": "markdown",
      "source": [
        "## Mapping of operators to their types"
      ],
      "metadata": {
        "id": "e4qmYxzzRaKS"
      }
    },
    {
      "cell_type": "code",
      "source": [
        "OPERATOR_MAPPING = {\n",
        "    EQUIVALENCE: BI_OP,\n",
        "    BI_IMPLICATION: BI_OP,\n",
        "    IMPLICATION: BI_OP,\n",
        "    DISJUNCTION: BI_OP,\n",
        "    CONJUNCTION: BI_OP,\n",
        "    FOR_ALL: QUANT_OP,\n",
        "    EXISTS: QUANT_OP,\n",
        "    NEGATION: MONO_OP\n",
        "}"
      ],
      "metadata": {
        "id": "XLlP9XzWh6WU"
      },
      "execution_count": 6,
      "outputs": []
    },
    {
      "cell_type": "markdown",
      "source": [
        "# Classes"
      ],
      "metadata": {
        "id": "ko1IClK5awHO"
      }
    },
    {
      "cell_type": "markdown",
      "source": [
        "## Base Classes"
      ],
      "metadata": {
        "id": "KJMo8rgKQHTf"
      }
    },
    {
      "cell_type": "code",
      "source": [
        "class LogicElement():\n",
        "    __symbol = None\n",
        "\n",
        "    def __init__(self, symbol: str) -> None:\n",
        "        if not isinstance(symbol, str):\n",
        "            raise TypeError(\"Non-string passed.\")\n",
        "        self.__symbol = symbol\n",
        "\n",
        "    def __str__(self) -> str:\n",
        "        return self.__symbol.__str__()\n",
        "\n",
        "    def is_equals(self, x) -> bool:\n",
        "        return self.__str__() == x.__str__()\n",
        "\n",
        "    def isValidLogicElement(x: any) -> bool:\n",
        "        return isinstance(x, LogicElement)\n",
        "\n",
        "    def verifyLogicElement(*args: any) -> None:\n",
        "        for arg in args:\n",
        "            if not LogicElement.isValidLogicElement(arg):\n",
        "                raise TypeError(\"One or more invalid logic elements were passed.\")\n",
        "\n",
        "\n",
        "class Variable(LogicElement):\n",
        "    def __init__(self, symbol: str) -> None:\n",
        "        super().__init__(symbol)\n",
        "\n",
        "    def isValidVariable(x: any) -> bool:\n",
        "        return isinstance(x, Variable)\n",
        "\n",
        "    def verifyVariable(*args: any) -> None:\n",
        "        for arg in args:\n",
        "            if not Variable.isValidVariable(arg):\n",
        "                raise TypeError(\"One or more invalid variables were passed.\")\n",
        "\n",
        "\n",
        "class Operator(LogicElement):\n",
        "    __data = None\n",
        "\n",
        "    def __init__(self, symbol: str, *args: tuple[str, LogicElement]) -> None:\n",
        "        super().__init__(symbol)\n",
        "        self.__data = {}\n",
        "        for arg in args:\n",
        "            if isinstance(arg[0], str) and LogicElement.isValidLogicElement(arg[1]):\n",
        "                self.__data[arg[0]] = arg[1]\n",
        "            else:\n",
        "                raise TypeError(\"One or more invalid arguments were passed.\")\n",
        "\n",
        "    def __getitem__(self, key: str) -> LogicElement:\n",
        "        return self.__data[key]\n",
        "\n",
        "    def __setitem__(self, key: str, value: LogicElement) -> None:\n",
        "        LogicElement.verifyLogicElement(value)\n",
        "        self.__data[key] = value\n",
        "\n",
        "    def __iter__(self) -> LogicElement:\n",
        "        for k, v in self.get_all():\n",
        "            yield (k, v)\n",
        "\n",
        "    def is_equals(self, x) -> bool:\n",
        "        stillEqual = type(self) == type(x)\n",
        "        if stillEqual:\n",
        "            for i, e in self:\n",
        "                if type(e) != type(x[i]):\n",
        "                    stillEqual = False\n",
        "                    break\n",
        "                else:\n",
        "                    stillEqual = e.is_equals(x[i])\n",
        "        return stillEqual\n",
        "\n",
        "    def get_all(self) -> tuple:\n",
        "        return self.__data.items()\n",
        "\n",
        "    def solve(self) -> LogicElement:\n",
        "        return self\n",
        "\n",
        "    def solve_cnf(self) -> LogicElement:\n",
        "        return self.solve()\n",
        "\n",
        "    def solve_dnf(self) -> LogicElement:\n",
        "        return self.solve()\n",
        "\n",
        "    def isValidExpression(x: any) -> bool:\n",
        "        return isinstance(x, Operator)\n",
        "\n",
        "    def verifyExpression(*args: any) -> None:\n",
        "        for arg in args:\n",
        "            if not Operator.isValidExpression(arg):\n",
        "                raise TypeError(\"One or more invalid expressions were passed.\")"
      ],
      "metadata": {
        "id": "bkqSZow-QEpP"
      },
      "execution_count": 7,
      "outputs": []
    },
    {
      "cell_type": "markdown",
      "source": [
        "## Bi-arguments branch"
      ],
      "metadata": {
        "id": "E1TbBcWHQKkY"
      }
    },
    {
      "cell_type": "code",
      "source": [
        "class BiOperator(Operator):\n",
        "    def __init__(self, a: LogicElement, b: LogicElement, symbol: str) -> None:\n",
        "        super().__init__(symbol, (\"a\", a), (\"b\", b))\n",
        "\n",
        "    def __str__(self) -> str:\n",
        "        return \"(\" + self.get_a().__str__() + SEPARATOR + super().__str__() + SEPARATOR + self.get_b().__str__() + \")\"\n",
        "\n",
        "    def get_a(self) -> LogicElement:\n",
        "        return self.__getitem__(\"a\")\n",
        "\n",
        "    def get_b(self) -> LogicElement:\n",
        "        return self.__getitem__(\"b\")\n",
        "\n",
        "\n",
        "class Equivalence(BiOperator):\n",
        "    def __init__(self, a: LogicElement, b: LogicElement) -> None:\n",
        "        super().__init__(a, b, EQUIVALENCE)\n",
        "\n",
        "    def solve(self) -> LogicElement:  # Equivalence\n",
        "        a = self.get_a()\n",
        "        b = self.get_b()\n",
        "        return BiImplication(a, b)\n",
        "\n",
        "\n",
        "class BiImplication(BiOperator):\n",
        "    def __init__(self, a: LogicElement, b: LogicElement) -> None:\n",
        "        super().__init__(a, b, BI_IMPLICATION)\n",
        "\n",
        "    def solve(self) -> LogicElement:  # Biimplication\n",
        "        a = self.get_a()\n",
        "        b = self.get_b()\n",
        "        return Conjunction(Implication(a, b), Implication(b, a))\n",
        "\n",
        "\n",
        "class Implication(BiOperator):\n",
        "    def __init__(self, a: LogicElement, b: LogicElement) -> None:\n",
        "        super().__init__(a, b, IMPLICATION)\n",
        "\n",
        "    def solve(self) -> LogicElement:  # Rule of inference\n",
        "        a = self.get_a()\n",
        "        b = self.get_b()\n",
        "        return Disjunction(Not(a), b)\n",
        "\n",
        "\n",
        "class Disjunction(BiOperator):\n",
        "    def __init__(self, a: LogicElement, b: LogicElement) -> None:\n",
        "        super().__init__(a, b, DISJUNCTION)\n",
        "\n",
        "    def solve(self) -> LogicElement:  # Simplification\n",
        "        a = self.get_a()\n",
        "        b = self.get_b()\n",
        "        if a.is_equals(b):\n",
        "            return a\n",
        "        return self\n",
        "\n",
        "    def solve_cnf(self) -> LogicElement:  # Distribution\n",
        "        operator = self.solve()\n",
        "        if isinstance(operator, Disjunction):\n",
        "            a = operator.get_a()\n",
        "            b = operator.get_b()\n",
        "            if isinstance(a, Conjunction):\n",
        "                a_a = a.get_a()\n",
        "                b_a = a.get_b()\n",
        "                return Conjunction(Disjunction(b, a_a), Disjunction(b, b_a))\n",
        "            elif isinstance(b, Conjunction):\n",
        "                a_b = b.get_a()\n",
        "                b_b = b.get_b()\n",
        "                return Conjunction(Disjunction(a, a_b), Disjunction(a, b_b))\n",
        "        return operator\n",
        "\n",
        "\n",
        "class Conjunction(BiOperator):\n",
        "    def __init__(self, a: LogicElement, b: LogicElement) -> None:\n",
        "        super().__init__(a, b, CONJUNCTION)\n",
        "\n",
        "    def solve(self) -> LogicElement:  # Simplification\n",
        "        a = self.get_a()\n",
        "        b = self.get_b()\n",
        "        if a.is_equals(b):\n",
        "            return a\n",
        "        return self\n",
        "\n",
        "    def solve_dnf(self) -> LogicElement:  # Distribution\n",
        "        operator = self.solve()\n",
        "        if isinstance(operator, Conjunction):\n",
        "            a = operator.get_a()\n",
        "            b = operator.get_b()\n",
        "            if isinstance(a, Disjunction):\n",
        "                a_a = a.get_a()\n",
        "                b_a = a.get_b()\n",
        "                return Disjunction(Conjunction(b, a_a), Conjunction(b, b_a))\n",
        "            elif isinstance(b, Disjunction):\n",
        "                a_b = b.get_a()\n",
        "                b_b = b.get_b()\n",
        "                return Disjunction(Conjunction(a, a_b), Conjunction(a, b_b))\n",
        "        return operator"
      ],
      "metadata": {
        "id": "YMLJ_D9gavHW"
      },
      "execution_count": 8,
      "outputs": []
    },
    {
      "cell_type": "markdown",
      "source": [
        "## Mono-arguments branch"
      ],
      "metadata": {
        "id": "7Lzrr3lTQbin"
      }
    },
    {
      "cell_type": "code",
      "source": [
        "class MonoOperator(Operator):\n",
        "    def __init__(self, a: LogicElement, symbol: str) -> None:\n",
        "        super().__init__(symbol, (\"a\", a))\n",
        "\n",
        "    def __str__(self) -> str:\n",
        "        return super().__str__() + SEPARATOR + self.get_a().__str__()\n",
        "\n",
        "    def get_a(self) -> LogicElement:\n",
        "        return self.__getitem__(\"a\")\n",
        "\n",
        "\n",
        "class Not(MonoOperator):\n",
        "    def __init__(self, a: LogicElement) -> None:\n",
        "        super().__init__(a, NEGATION)\n",
        "\n",
        "    def solve(self) -> LogicElement:\n",
        "        a = self.get_a()\n",
        "        if isinstance(a, Disjunction):  # Morgan's Law\n",
        "            a_a = a.get_a()\n",
        "            b_a = a.get_b()\n",
        "            return Conjunction(Not(a_a), Not(b_a))\n",
        "        elif isinstance(a, Conjunction):  # Morgan's Law\n",
        "            a_a = a.get_a()\n",
        "            b_a = a.get_b()\n",
        "            return Disjunction(Not(a_a), Not(b_a))\n",
        "        elif isinstance(a, Not):  # Double negation\n",
        "            a_a = a.get_a()\n",
        "            return a_a\n",
        "        else:\n",
        "            return self"
      ],
      "metadata": {
        "id": "v8ZqjOzIQZgZ"
      },
      "execution_count": 9,
      "outputs": []
    },
    {
      "cell_type": "markdown",
      "source": [
        "## Quantifiers branch"
      ],
      "metadata": {
        "id": "lq9slRsEQh4A"
      }
    },
    {
      "cell_type": "code",
      "source": [
        "class Quantifier(Operator):\n",
        "    def __init__(self, var: LogicElement, expr: LogicElement, symbol: str) -> None:\n",
        "        Variable.verifyVariable(var)\n",
        "        super().__init__(symbol, (\"var\", var), (\"expr\", expr))\n",
        "\n",
        "    def __str__(self) -> str:\n",
        "        return \"(\" + super().__str__() + SEPARATOR + self.get_var().__str__() + SEPARATOR + \"(\" + self.get_expr().__str__() + \")\" + \")\"\n",
        "\n",
        "    def get_var(self) -> LogicElement:\n",
        "        return self.__getitem__(\"var\")\n",
        "\n",
        "    def get_expr(self) -> LogicElement:\n",
        "        return self.__getitem__(\"expr\")\n",
        "\n",
        "\n",
        "class ForAll(Quantifier):\n",
        "    def __init__(self, var: LogicElement, expr: LogicElement) -> None:\n",
        "        super().__init__(var, expr, FOR_ALL)\n",
        "\n",
        "\n",
        "class Exists(Quantifier):\n",
        "    def __init__(self, var: LogicElement, expr: LogicElement) -> None:\n",
        "        super().__init__(var, expr, EXISTS)"
      ],
      "metadata": {
        "id": "Cqn5xpyYQmTI"
      },
      "execution_count": 10,
      "outputs": []
    },
    {
      "cell_type": "markdown",
      "source": [
        "# Functions"
      ],
      "metadata": {
        "id": "KBpCjyH8sZaZ"
      }
    },
    {
      "cell_type": "markdown",
      "source": [
        "## Basic functions"
      ],
      "metadata": {
        "id": "IVzHFIP9Que_"
      }
    },
    {
      "cell_type": "code",
      "source": [
        "def print_latex(latex_text: str) -> None:\n",
        "    # Prints the given LaTeX text as such\n",
        "    display(Math(latex_text))"
      ],
      "metadata": {
        "id": "4nQ2zvvbQuR7"
      },
      "execution_count": 11,
      "outputs": []
    },
    {
      "cell_type": "markdown",
      "source": [
        "## Parsing functions"
      ],
      "metadata": {
        "id": "_0T_PhGYQxZA"
      }
    },
    {
      "cell_type": "code",
      "source": [
        "def parse_latex(latex_text: str) -> LogicElement:\n",
        "    # Parses the LaTeX text into a LogicElement according to the rules of precedence (recursively)\n",
        "\n",
        "    latex_text = latex_text.strip()\n",
        "\n",
        "    splitted = split_latex(latex_text)  # Splits the LaTeX text into individual elements\n",
        "\n",
        "    selected_op = select_operation(splitted)  # Decides the operation based on precedence rules\n",
        "\n",
        "    # Parses the data considering the operation selected (recursively)\n",
        "    if selected_op:\n",
        "        index = splitted.index(selected_op)\n",
        "        if OPERATOR_MAPPING[selected_op] == BI_OP:\n",
        "            a = parse_sub_elements(splitted[:index])\n",
        "            b = parse_sub_elements(splitted[index + 1:])\n",
        "\n",
        "            if selected_op == EQUIVALENCE:\n",
        "                return Equivalence(a, b)\n",
        "            elif selected_op == BI_IMPLICATION:\n",
        "                return BiImplication(a, b)\n",
        "            elif selected_op == IMPLICATION:\n",
        "                return Implication(a, b)\n",
        "            elif selected_op == DISJUNCTION:\n",
        "                return Disjunction(a, b)\n",
        "            elif selected_op == CONJUNCTION:\n",
        "                return Conjunction(a, b)\n",
        "        elif OPERATOR_MAPPING[selected_op] == MONO_OP:\n",
        "            a = parse_sub_elements(splitted[index + 1])\n",
        "\n",
        "            if selected_op == NEGATION:\n",
        "                return Not(a)\n",
        "        elif OPERATOR_MAPPING[selected_op] == QUANT_OP:\n",
        "            a = parse_sub_elements(splitted[index + 1])\n",
        "            b = parse_sub_elements(splitted[index + 2:])\n",
        "\n",
        "            if selected_op == FOR_ALL:\n",
        "                return ForAll(a, b)\n",
        "            elif selected_op == EXISTS:\n",
        "                return Exists(a, b)\n",
        "\n",
        "    return Variable(SEPARATOR.join([str(e) for e in splitted]))  # Default case when no operator is selected\n",
        "\n",
        "\n",
        "def parse_sub_elements(elements: list[str] | str) -> LogicElement:\n",
        "    # Returns the sub elements given from an expression parsed\n",
        "    text = SEPARATOR.join([str(e) for e in elements])\n",
        "    if text[0] == \"(\" and text[-1] == \")\":  # Removes brackets if it has\n",
        "        text = text[1:-1]\n",
        "    return parse_latex(text)\n",
        "\n",
        "\n",
        "def split_latex(latex_text: str) -> list:\n",
        "    # Splits the LaTeX text into individual elements\n",
        "    from queue import LifoQueue\n",
        "\n",
        "    # Verifies brackets\n",
        "    if latex_text.count(\"(\") != latex_text.count(\")\"):\n",
        "        raise ValueError(\"Invalid LaTeX expression passed.\")\n",
        "\n",
        "    splitted = []  # List for elements of the expression\n",
        "\n",
        "    brackets_stack = LifoQueue()  # Stack to counter brackets\n",
        "    buffer = \"\"  # Buffer for letters between brackets\n",
        "    for i, c in enumerate(latex_text):  # Separates elements according to brackets\n",
        "        if c == SEPARATOR and brackets_stack.empty():\n",
        "            splitted.append(buffer)\n",
        "            buffer = \"\"\n",
        "        else:\n",
        "            if c == \"(\":\n",
        "                brackets_stack.put(c)\n",
        "            elif c == \")\":\n",
        "                brackets_stack.get()\n",
        "            buffer += c\n",
        "    splitted.append(buffer)\n",
        "\n",
        "    return splitted\n",
        "\n",
        "\n",
        "def select_operation(latex_splitted: list) -> str:\n",
        "    # Selects the operation based on precedence rules (and returns the exact operation as string)\n",
        "\n",
        "    selected = None  # Default case when no operator is found\n",
        "\n",
        "    for operator in OPERATOR_MAPPING:\n",
        "        if operator in latex_splitted:\n",
        "            selected = operator\n",
        "            break\n",
        "\n",
        "    # Decides the quantifier based in order (if it has both)\n",
        "    if selected and OPERATOR_MAPPING[selected] == QUANT_OP and (FOR_ALL in latex_splitted and EXISTS in latex_splitted):\n",
        "            fa_index = latex_splitted.index(FOR_ALL) if FOR_ALL in latex_splitted else len(latex_splitted)\n",
        "            ex_index = latex_splitted.index(EXISTS) if EXISTS in latex_splitted else len(latex_splitted)\n",
        "\n",
        "            selected = FOR_ALL if fa_index < ex_index else EXISTS\n",
        "\n",
        "    return selected"
      ],
      "metadata": {
        "id": "1_4KY6IZsVux"
      },
      "execution_count": 12,
      "outputs": []
    },
    {
      "cell_type": "markdown",
      "source": [
        "# Solving functions"
      ],
      "metadata": {
        "id": "rZdJUyYgQ4G_"
      }
    },
    {
      "cell_type": "markdown",
      "source": [
        "## Conjunction normal form (CNF) solver"
      ],
      "metadata": {
        "id": "_MRYfvAjR9SJ"
      }
    },
    {
      "cell_type": "code",
      "source": [
        "def cnf_solver(parsed_latex: LogicElement) -> LogicElement:\n",
        "    # Solve the CNF for the parsed LaTeX and returns it (recursively)\n",
        "\n",
        "    parsed = deepcopy(parsed_latex)  # Copies the instance and all its nested objects\n",
        "\n",
        "    # Checks if it's an expression (otherwise it skips)\n",
        "    if isinstance(parsed, Operator):\n",
        "        last_parsed = None\n",
        "\n",
        "        # If there is any changes, it tries to solve more, otherwise it's finished\n",
        "        while parsed != last_parsed:\n",
        "\n",
        "            last_parsed = parsed  # Takes the new base for comparison\n",
        "\n",
        "            # Sends the solver message to inner\n",
        "            if isinstance(parsed, Operator):\n",
        "                for i, e in parsed:\n",
        "                    parsed[i] = cnf_solver(e)\n",
        "\n",
        "                # Solves CNF of expression\n",
        "                parsed = parsed.solve_cnf()\n",
        "\n",
        "    return parsed"
      ],
      "metadata": {
        "id": "5x4qn3swQ5ph"
      },
      "execution_count": 13,
      "outputs": []
    },
    {
      "cell_type": "markdown",
      "source": [
        "## Disjunction normal form (DNF) solver"
      ],
      "metadata": {
        "id": "J7DO-z2XSGTu"
      }
    },
    {
      "cell_type": "code",
      "source": [
        "def dnf_solver(parsed_latex: LogicElement) -> LogicElement:\n",
        "    # Solve the DNF for the parsed LaTeX and returns it\n",
        "\n",
        "    parsed = deepcopy(parsed_latex)  # Copies the instance and all its nested objects\n",
        "\n",
        "    # Checks if it's an expression (otherwise it skips)\n",
        "    if isinstance(parsed, Operator):\n",
        "        last_parsed = None\n",
        "\n",
        "        # If there is any changes, it tries to solve more, otherwise it's finished\n",
        "        while parsed != last_parsed:\n",
        "\n",
        "            last_parsed = parsed  # Takes the new base for comparison\n",
        "\n",
        "            # Sends the solver message to inner\n",
        "            if isinstance(parsed, Operator):\n",
        "                for i, e in parsed:\n",
        "                    parsed[i] = dnf_solver(e)\n",
        "\n",
        "                # Solves DNF of expression\n",
        "                parsed = parsed.solve_dnf()\n",
        "\n",
        "    return parsed"
      ],
      "metadata": {
        "id": "XrxAt4kkSYDE"
      },
      "execution_count": 14,
      "outputs": []
    },
    {
      "cell_type": "markdown",
      "source": [
        "# Main code"
      ],
      "metadata": {
        "id": "p5bO5X8zsXdJ"
      }
    },
    {
      "cell_type": "code",
      "source": [
        "if __name__ == \"__main__\":\n",
        "    # Initial messages\n",
        "    print(\"\\033[34mCNF/DNF SOLVER\\n\")\n",
        "    print(\"\\033[34mProgram started...\")\n",
        "\n",
        "    # Reading file\n",
        "    print(\"\\033[34mReading file... \", end=\"\")\n",
        "    file_lines = []\n",
        "    with open(filename, \"r\") as file:\n",
        "        for line in file.readlines():\n",
        "            file_lines.append(line.removesuffix(\"\\n\"))\n",
        "    print(\"\\033[34mFile read successfully.\")\n",
        "\n",
        "    # Solving CNF/DNF for each line\n",
        "    print(\"\\033[34m\\nSolving CNF/DNF for each line...\\n\")\n",
        "    for i, line in enumerate(file_lines):\n",
        "        print(f\"\\033[33mSolving line {i + 1} (\\033[32m\\\"{line}\\\"\\033[33m)...\")\n",
        "        print(\"\\033[33mParsing latex text... \", end=\"\")\n",
        "        parsed_latex = parse_latex(line)\n",
        "        cnf = str(cnf_solver(parsed_latex))\n",
        "        dnf = str(dnf_solver(parsed_latex))\n",
        "        print(\"\\033[33mLatex text parsed successfully.\")\n",
        "        print(f\"\\033[33mParsed: (\\033[32m\\\"{parsed_latex}\\\"\\033[33m)\", end=\"\")\n",
        "        print_latex(line)\n",
        "        print(f\"\\033[33mCNF: (\\033[32m\\\"{cnf}\\\"\\033[33m)\", end=\"\")\n",
        "        print_latex(cnf)\n",
        "        print(f\"\\033[33mDNF: (\\033[32m\\\"{dnf}\\\"\\033[33m)\", end=\"\")\n",
        "        print_latex(dnf)\n",
        "        print()\n",
        "    print(\"\\033[34mEvery line has been solved successfully.\\n\")\n",
        "\n",
        "    # End message\n",
        "    print(\"\\033[34mProgram finished.\")"
      ],
      "metadata": {
        "colab": {
          "base_uri": "https://localhost:8080/",
          "height": 1000
        },
        "id": "jcFoCFi9Team",
        "outputId": "0447821f-6b09-47a9-ca7e-90d396e99d0d"
      },
      "execution_count": 15,
      "outputs": [
        {
          "output_type": "stream",
          "name": "stdout",
          "text": [
            "\u001b[34mCNF/DNF SOLVER\n",
            "\n",
            "\u001b[34mProgram started...\n",
            "\u001b[34mReading file... \u001b[34mFile read successfully.\n",
            "\u001b[34m\n",
            "Solving CNF/DNF for each line...\n",
            "\n",
            "\u001b[33mSolving line 1 (\u001b[32m\"A \\rightarrow B \\vee C\"\u001b[33m)...\n",
            "\u001b[33mParsing latex text... \u001b[33mLatex text parsed successfully.\n",
            "\u001b[33mParsed: (\u001b[32m\"(A \\rightarrow (B \\vee C))\"\u001b[33m)"
          ]
        },
        {
          "output_type": "display_data",
          "data": {
            "text/plain": [
              "<IPython.core.display.Math object>"
            ],
            "text/latex": "$\\displaystyle A \\rightarrow B \\vee C$"
          },
          "metadata": {}
        },
        {
          "output_type": "stream",
          "name": "stdout",
          "text": [
            "\u001b[33mCNF: (\u001b[32m\"(\\neg A \\vee (B \\vee C))\"\u001b[33m)"
          ]
        },
        {
          "output_type": "display_data",
          "data": {
            "text/plain": [
              "<IPython.core.display.Math object>"
            ],
            "text/latex": "$\\displaystyle (\\neg A \\vee (B \\vee C))$"
          },
          "metadata": {}
        },
        {
          "output_type": "stream",
          "name": "stdout",
          "text": [
            "\u001b[33mDNF: (\u001b[32m\"(\\neg A \\vee (B \\vee C))\"\u001b[33m)"
          ]
        },
        {
          "output_type": "display_data",
          "data": {
            "text/plain": [
              "<IPython.core.display.Math object>"
            ],
            "text/latex": "$\\displaystyle (\\neg A \\vee (B \\vee C))$"
          },
          "metadata": {}
        },
        {
          "output_type": "stream",
          "name": "stdout",
          "text": [
            "\n",
            "\u001b[33mSolving line 2 (\u001b[32m\"B \\vee D \\leftrightarrow A\"\u001b[33m)...\n",
            "\u001b[33mParsing latex text... \u001b[33mLatex text parsed successfully.\n",
            "\u001b[33mParsed: (\u001b[32m\"((B \\vee D) \\leftrightarrow A)\"\u001b[33m)"
          ]
        },
        {
          "output_type": "display_data",
          "data": {
            "text/plain": [
              "<IPython.core.display.Math object>"
            ],
            "text/latex": "$\\displaystyle B \\vee D \\leftrightarrow A$"
          },
          "metadata": {}
        },
        {
          "output_type": "stream",
          "name": "stdout",
          "text": [
            "\u001b[33mCNF: (\u001b[32m\"(((A \\vee \\neg B) \\wedge (A \\vee \\neg D)) \\wedge (\\neg A \\vee (B \\vee D)))\"\u001b[33m)"
          ]
        },
        {
          "output_type": "display_data",
          "data": {
            "text/plain": [
              "<IPython.core.display.Math object>"
            ],
            "text/latex": "$\\displaystyle (((A \\vee \\neg B) \\wedge (A \\vee \\neg D)) \\wedge (\\neg A \\vee (B \\vee D)))$"
          },
          "metadata": {}
        },
        {
          "output_type": "stream",
          "name": "stdout",
          "text": [
            "\u001b[33mDNF: (\u001b[32m\"((((\\neg B \\wedge \\neg D) \\wedge \\neg A) \\vee (((\\neg B \\wedge \\neg D) \\wedge B) \\vee ((\\neg B \\wedge \\neg D) \\wedge D))) \\vee ((A \\wedge \\neg A) \\vee ((A \\wedge B) \\vee (A \\wedge D))))\"\u001b[33m)"
          ]
        },
        {
          "output_type": "display_data",
          "data": {
            "text/plain": [
              "<IPython.core.display.Math object>"
            ],
            "text/latex": "$\\displaystyle ((((\\neg B \\wedge \\neg D) \\wedge \\neg A) \\vee (((\\neg B \\wedge \\neg D) \\wedge B) \\vee ((\\neg B \\wedge \\neg D) \\wedge D))) \\vee ((A \\wedge \\neg A) \\vee ((A \\wedge B) \\vee (A \\wedge D))))$"
          },
          "metadata": {}
        },
        {
          "output_type": "stream",
          "name": "stdout",
          "text": [
            "\n",
            "\u001b[33mSolving line 3 (\u001b[32m\"A \\wedge B \\wedge (C \\vee B) \\rightarrow D\"\u001b[33m)...\n",
            "\u001b[33mParsing latex text... \u001b[33mLatex text parsed successfully.\n",
            "\u001b[33mParsed: (\u001b[32m\"((A \\wedge (B \\wedge (C \\vee B))) \\rightarrow D)\"\u001b[33m)"
          ]
        },
        {
          "output_type": "display_data",
          "data": {
            "text/plain": [
              "<IPython.core.display.Math object>"
            ],
            "text/latex": "$\\displaystyle A \\wedge B \\wedge (C \\vee B) \\rightarrow D$"
          },
          "metadata": {}
        },
        {
          "output_type": "stream",
          "name": "stdout",
          "text": [
            "\u001b[33mCNF: (\u001b[32m\"((D \\vee (\\neg A \\vee (\\neg B \\vee \\neg C))) \\wedge (D \\vee (\\neg A \\vee \\neg B)))\"\u001b[33m)"
          ]
        },
        {
          "output_type": "display_data",
          "data": {
            "text/plain": [
              "<IPython.core.display.Math object>"
            ],
            "text/latex": "$\\displaystyle ((D \\vee (\\neg A \\vee (\\neg B \\vee \\neg C))) \\wedge (D \\vee (\\neg A \\vee \\neg B)))$"
          },
          "metadata": {}
        },
        {
          "output_type": "stream",
          "name": "stdout",
          "text": [
            "\u001b[33mDNF: (\u001b[32m\"(((\\neg A \\vee (\\neg A \\wedge \\neg B)) \\vee (((\\neg A \\wedge \\neg B) \\vee (\\neg A \\wedge \\neg C)) \\vee (\\neg B \\vee (\\neg B \\wedge \\neg C)))) \\vee D)\"\u001b[33m)"
          ]
        },
        {
          "output_type": "display_data",
          "data": {
            "text/plain": [
              "<IPython.core.display.Math object>"
            ],
            "text/latex": "$\\displaystyle (((\\neg A \\vee (\\neg A \\wedge \\neg B)) \\vee (((\\neg A \\wedge \\neg B) \\vee (\\neg A \\wedge \\neg C)) \\vee (\\neg B \\vee (\\neg B \\wedge \\neg C)))) \\vee D)$"
          },
          "metadata": {}
        },
        {
          "output_type": "stream",
          "name": "stdout",
          "text": [
            "\n",
            "\u001b[33mSolving line 4 (\u001b[32m\"\\exists A (A \\rightarrow B) \\vee B\"\u001b[33m)...\n",
            "\u001b[33mParsing latex text... \u001b[33mLatex text parsed successfully.\n",
            "\u001b[33mParsed: (\u001b[32m\"((\\exists A ((A \\rightarrow B))) \\vee B)\"\u001b[33m)"
          ]
        },
        {
          "output_type": "display_data",
          "data": {
            "text/plain": [
              "<IPython.core.display.Math object>"
            ],
            "text/latex": "$\\displaystyle \\exists A (A \\rightarrow B) \\vee B$"
          },
          "metadata": {}
        },
        {
          "output_type": "stream",
          "name": "stdout",
          "text": [
            "\u001b[33mCNF: (\u001b[32m\"((\\exists A ((\\neg A \\vee B))) \\vee B)\"\u001b[33m)"
          ]
        },
        {
          "output_type": "display_data",
          "data": {
            "text/plain": [
              "<IPython.core.display.Math object>"
            ],
            "text/latex": "$\\displaystyle ((\\exists A ((\\neg A \\vee B))) \\vee B)$"
          },
          "metadata": {}
        },
        {
          "output_type": "stream",
          "name": "stdout",
          "text": [
            "\u001b[33mDNF: (\u001b[32m\"((\\exists A ((\\neg A \\vee B))) \\vee B)\"\u001b[33m)"
          ]
        },
        {
          "output_type": "display_data",
          "data": {
            "text/plain": [
              "<IPython.core.display.Math object>"
            ],
            "text/latex": "$\\displaystyle ((\\exists A ((\\neg A \\vee B))) \\vee B)$"
          },
          "metadata": {}
        },
        {
          "output_type": "stream",
          "name": "stdout",
          "text": [
            "\n",
            "\u001b[33mSolving line 5 (\u001b[32m\"\\forall A P(A) \\equiv B\"\u001b[33m)...\n",
            "\u001b[33mParsing latex text... \u001b[33mLatex text parsed successfully.\n",
            "\u001b[33mParsed: (\u001b[32m\"((\\forall A (P(A))) \\equiv B)\"\u001b[33m)"
          ]
        },
        {
          "output_type": "display_data",
          "data": {
            "text/plain": [
              "<IPython.core.display.Math object>"
            ],
            "text/latex": "$\\displaystyle \\forall A P(A) \\equiv B$"
          },
          "metadata": {}
        },
        {
          "output_type": "stream",
          "name": "stdout",
          "text": [
            "\u001b[33mCNF: (\u001b[32m\"((\\neg (\\forall A (P(A))) \\vee B) \\wedge (\\neg B \\vee (\\forall A (P(A)))))\"\u001b[33m)"
          ]
        },
        {
          "output_type": "display_data",
          "data": {
            "text/plain": [
              "<IPython.core.display.Math object>"
            ],
            "text/latex": "$\\displaystyle ((\\neg (\\forall A (P(A))) \\vee B) \\wedge (\\neg B \\vee (\\forall A (P(A)))))$"
          },
          "metadata": {}
        },
        {
          "output_type": "stream",
          "name": "stdout",
          "text": [
            "\u001b[33mDNF: (\u001b[32m\"(((\\neg (\\forall A (P(A))) \\wedge \\neg B) \\vee (\\neg (\\forall A (P(A))) \\wedge (\\forall A (P(A))))) \\vee ((B \\wedge \\neg B) \\vee (B \\wedge (\\forall A (P(A))))))\"\u001b[33m)"
          ]
        },
        {
          "output_type": "display_data",
          "data": {
            "text/plain": [
              "<IPython.core.display.Math object>"
            ],
            "text/latex": "$\\displaystyle (((\\neg (\\forall A (P(A))) \\wedge \\neg B) \\vee (\\neg (\\forall A (P(A))) \\wedge (\\forall A (P(A))))) \\vee ((B \\wedge \\neg B) \\vee (B \\wedge (\\forall A (P(A))))))$"
          },
          "metadata": {}
        },
        {
          "output_type": "stream",
          "name": "stdout",
          "text": [
            "\n",
            "\u001b[34mEvery line has been solved successfully.\n",
            "\n",
            "\u001b[34mProgram finished.\n"
          ]
        }
      ]
    }
  ]
}